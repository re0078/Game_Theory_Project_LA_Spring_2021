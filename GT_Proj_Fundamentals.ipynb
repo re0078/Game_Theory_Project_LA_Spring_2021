{
 "cells": [
  {
   "cell_type": "markdown",
   "metadata": {},
   "source": [
    "<div style=\"direction:rtl;line-height:300%;\">\n",
    "\t<font face=\"XB Zar\" size=5>\n",
    "\t\t<div align=center>\n",
    "\t\t\t<font face=\"IranNastaliq\" size=30>\n",
    "\t\t\t\t<p></p>\n",
    "\t\t\t\t<p></p>\n",
    "به نام خدا\n",
    "\t\t\t\t<p></p>\n",
    "\t\t\t</font>\n",
    "\t\t\t<font color=#FF7500>\n",
    "دانشگاه صنعتی شریف - دانشکده مهندسی کامپیوتر\n",
    "            </font>\n",
    "\t\t\t<p></p>\n",
    "\t\t\t<font color=blue>\n",
    "جبر خطی\n",
    "            </font>\n",
    "            <font size=3>\n",
    "\t\t\t<br />\n",
    "\t\t\t<p>\n",
    "نام و نام خانوادگی:\n",
    "<br>\n",
    " شماره دانشجویی:\n",
    "            </p>\n",
    "</pre>\n",
    "            </font>\n",
    "بهار ۱۴۰۰\t\t</div>\n",
    "\t\t<hr/>\n",
    "\t\t<div align=center>\n",
    "\t\t    <font color=red size=6>\n",
    "پروژه نظریه‌ی بازی ها - مفاهیم ابتدایی\n",
    "            \t<br/>\n",
    "\t\t\t</font>\n",
    "طراح: رضا عبداله زاده ، یاشار ظروفچی، امیرمهدی حسین آبادی\n",
    "\t\t\t<br/><br/>\n",
    "موعد تحویل:  \n",
    "        </style>\n",
    "\t</font>\n",
    "</div>"
   ]
  },
  {
   "cell_type": "markdown",
   "metadata": {},
   "source": [
    "![Media not loading!](https://miro.medium.com/max/825/1*CrkbeRGIam0jBeX9UGSabg.gif)"
   ]
  },
  {
   "cell_type": "markdown",
   "metadata": {},
   "source": [
    "<div style=\"direction:rtl;line-height:200%\">\n",
    "\t<font size=5>مقدمه - مفهوم نظریه بازی ها</font>\n",
    "    <font size =3>\n",
    "        <ul>\n",
    "            <li>تعریف نظریه بازی</li>\n",
    "            <li>منشا ظهور آن (فلسفه)</li>\n",
    "            <li>برخی از کاربرد ها</li>\n",
    "        </ul>\n",
    "    </font>\n",
    "</div>"
   ]
  },
  {
   "cell_type": "markdown",
   "metadata": {},
   "source": [
    "<div style=\"direction:rtl\">\n",
    "    <font size=4>\n",
    "    <b>تعریف بازی\n",
    "        </b>\n",
    "    </font>\n",
    "    <br>\n",
    "    <br>\n",
    "    یک بازی شامل مجموعه‌ای از بازیکنان، مجموعه‌ای از حرکت‌ها یا راه بردها و نتیجهٔ مشخصی برای هر ترکیب از راه بردها می‌باشد. پیروزی در هر بازی تنها تابع شانس نیست بلکه اصول و قوانینِ ویژهٔ خود را دارد و هر بازیکن در طی بازی سعی می‌کند با به‌کارگیری آن اصول، خود را به بُرد نزدیک کند. رقابتِ دو کشور برای دست‌یابی به انرژی هسته‌ای، سازوکار حاکم بر روابط بین دو کشور در حلِ یک مناقشهٔ بین‌المللی، رقابتِ دو شرکتِ تجاری در بازار بورس کالا و همینطور بازی‌های سنگ کاغذ قیچی نمونه‌هایی از بازی‌ها هستند.\n",
    "    <br>\n",
    "                1.3 , 1.4 of short course\n",
    "    </div>"
   ]
  },
  {
   "cell_type": "markdown",
   "metadata": {},
   "source": [
    "<div style=\"direction:rtl\">\n",
    "    <font size=4>\n",
    "    <b>انواع بازی ها\n",
    "        </b>\n",
    "    </font>\n",
    "    <br>\n",
    "    <font size =3>\n",
    "        <ul>\n",
    "            <li>تقسیم بندی بازی ها بر اساس zero sum game</li>\n",
    "            <li>بازی های شانسی و جبر گرایانه </li>\n",
    "            <li>Simultaneous Games, One-Shot Games, Repeated Games</li>      \n",
    "        </ul>\n",
    "    </font> \n",
    "    </div>"
   ]
  },
  {
   "attachments": {
    "image.png": {
     "image/png": "[encoded data removed]"
    }
   },
   "cell_type": "markdown",
   "metadata": {},
   "source": [
    "![image.png](attachment:image.png)"
   ]
  },
  {
   "cell_type": "markdown",
   "metadata": {},
   "source": [
    "- Normal form games definition \n",
    "- Payoff matrix\n",
    "- 3 examples of normal games and payoff matrices (perison dillema, rock paper scissors, ..)"
   ]
  },
  {
   "cell_type": "markdown",
   "metadata": {
    "pycharm": {
     "name": "#%% md\n"
    }
   },
   "source": [
    "<div dir='rtl'>\n",
    "\n",
    " <font face='XB Zar' size='4'>\n",
    "    استراتژی‌های غالب\n",
    " </font>\n",
    "<br>\n",
    " <font face='XB Zar' size='3'>\n",
    "    <p align='justify'>\n",
    "    مثال زندانیان قسمت قبل را در نظر بگیرید. با فرض اینکه زندانیان عاقل هستند، پس گزینهٔ خیانت را انتخاب می‌کنند. بنابراین زندانی دوم باید روشی پیش بگیرد مستقل از اینکه زندانی اول کدام روش را پیش گرفته تا بیشترین منفعت برایش باشد.\n",
    "    </p>\n",
    "    <p align='justify'>\n",
    "    طبق نظر بالا پس دو زندانی استراتژی (خیانت،خیانت) را انتخاب می‌کنند. طبق این مثال، می‌توانیم تعریف کنیم در هر بازی دو نفره به فرم استاندارد، استراتژی اس‌پریم‍۱ بازیکن اول\n",
    "    <b> مغلوب </b>\n",
    "    استراتژی اس‌‍۱ بازیکن اول است در صورتی که به ازای هر استراتژی اس۲ که بازیکن دوم پیش گیرد، منفعت اس۱ از اس‌پریم۱ بیشتر باشد.\n",
    "    </p>\n",
    "    <p>\n",
    "    اکنون اگر بخواهیم با نماد گذاری پیش رویم خواهیم داشت:\n",
    "    توضیحات ریاضی\n",
    "    </p>\n",
    " </font>\n",
    "\n",
    "</div>"
   ]
  },
  {
   "cell_type": "markdown",
   "source": [
    "<div dir='rtl'>\n",
    "\n",
    " <font face='XB Zar' size='4'>\n",
    "    تعادل نش\n",
    " </font>\n",
    "<br>\n",
    " <font face='XB Zar' size='3'>\n",
    "    <p align='justify'>\n",
    "همانطور که در قسمت قبل صحبت کردیم، استراتژی غالب هر بازیکن وابسته به استراتژی بازیکنان دیگر است. اکنون نقطه‌ای را در نظر بگیرید که در آن بازیکنان دیگر تمایل به تغییر استراتژی خود نداشته باشند. به این نقطهٔ تعادل،\n",
    "<b> نقطهٔ تعادل نش </b>\n",
    "گفته می‌شود.\n",
    "    </p>\n",
    "    <p align='justify'>\n",
    "        توضیحات و مثال\n",
    "    </p>\n",
    " </font>\n",
    "\n",
    "</div>\n"
   ],
   "metadata": {
    "collapsed": false
   }
  }
 ],
 "metadata": {
  "kernelspec": {
   "display_name": "Python 3",
   "language": "python",
   "name": "python3"
  },
  "language_info": {
   "codemirror_mode": {
    "name": "ipython",
    "version": 3
   },
   "file_extension": ".py",
   "mimetype": "text/x-python",
   "name": "python",
   "nbconvert_exporter": "python",
   "pygments_lexer": "ipython3",
   "version": "3.8.5"
  }
 },
 "nbformat": 4,
 "nbformat_minor": 2
}