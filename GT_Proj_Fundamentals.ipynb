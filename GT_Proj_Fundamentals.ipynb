{
 "cells": [
  {
   "cell_type": "markdown",
   "metadata": {},
   "source": [
    "<div style=\"direction:rtl;line-height:300%;\">\n",
    "\t<font face='XB Zar' size=5>\n",
    "\t\t<div align=center>\n",
    "\t\t\t<font face='XB Zar' size=30>\n",
    "\t\t\t\t<p></p>\n",
    "\t\t\t\t<p></p>\n",
    "به نام خدا\n",
    "\t\t\t\t<p></p>\n",
    "\t\t\t</font>\n",
    "\t\t\t<font face='XB Zar' color=#FF7500>\n",
    "دانشگاه صنعتی شریف - دانشکده مهندسی کامپیوتر\n",
    "            </font>\n",
    "\t\t\t<p></p>\n",
    "\t\t\t<font face='XB Zar' color=blue>\n",
    "جبر خطی\n",
    "            </font>\n",
    "            <font face='XB Zar' size=3>\n",
    "\t\t\t<br />\n",
    "                <pre>\n",
    "نام و نام خانوادگی:                    شماره دانشجویی:\n",
    "</pre>\n",
    "            </font>\n",
    "بهار ۱۴۰۰\t\t</div>\n",
    "\t\t<hr/>\n",
    "\t\t<div align=center>\n",
    "\t\t    <font face='XB Zar' color=red size=6>\n",
    "پروژه نظریه‌ی بازی ها - مفاهیم ابتدایی\n",
    "            \t<br/>\n",
    "\t\t\t</font>\n",
    "طراحان: رضا عبداله زاده ، یاشار ظروفچی، امیرمهدی حسین‌آبادی\n",
    "\t\t\t<br/><br/>\n",
    "موعد تحویل:  \n",
    "        </style>\n",
    "\t</font>\n",
    "</div>"
   ]
  },
  {
   "cell_type": "markdown",
   "metadata": {},
   "source": [
    "![Media not loading!](https://miro.medium.com/max/825/1*CrkbeRGIam0jBeX9UGSabg.gif)"
   ]
  },
  {
   "cell_type": "markdown",
   "metadata": {},
   "source": [
    "<div style=\"direction:rtl;line-height:200%\">\n",
    "    <font face='XB Zar' size=5><b>مقدمه - نظریه بازی‌ها</b></font>\n",
    "    <font face='XB Zar' size =4>\n",
    "        <br>\n",
    "نظریه بازی‌ها یک چارچوب نظری برای درک موقعیت‌های اجتماعی با استفاده  مدل سازی رفتار عامل های درگیر در تصمیم گیری است که در سود یکدیگر شریک هستند. از برخی جهات ، نظریه بازی‌ها، علم استراتژی یا دست کم، علم تصمیم‌گیری بهینه‌ی بازیگران مستقل و رقیب در یک محیط استراتژیک است. \n",
    "        <br>\n",
    "        هسته مرکزی این حوزه در مطالعات ریاضیدان جان ون نیومن (John von Neumann)\n",
    "        و اقتصاددان اسکار مورگنشترن (Oskar Morgenstern)\n",
    "        در اواخر دهه ۱۹۲۰ بنا شد. در همان زمان کاربرد‌های این علم در خصوص علم اقتصاد مورد توجه قرار گرفت.\n",
    "        امروزه نظریه بازی‌ها حوزه‌ی وسیعی شامل علوم تصمیم‌گیری منطقی است.\n",
    "        <br>\n",
    "       رقابت شرکت‌ها برای در اختیار گرفتن بازار‌های مختلف، تعامل میان اعضای یک گروه برای انجام یک پروژه، بازی شطرنج و همینطور توزیع یک وعده‌ی غذایی میان اعضای خانواده همه و همه موقعیت‌هایی محسوب می‌شوند که تصمیم رقبا بر سود بازیکنان(شرکت‌ها، اعضای خانواده و ..) تاثیر می‌گذارد و هر یک می‌توانند به وسیله دانش نظریه بازی‌ها مدل شوند. \n",
    "    </font>\n",
    "</div>"
   ]
  },
  {
   "cell_type": "markdown",
   "metadata": {},
   "source": [
    "<div style=\"direction:rtl;line-height:200%\">\n",
    "    <font face='XB Zar' size=5>\n",
    "    <b>تعریف بازی\n",
    "        </b>\n",
    "    <br>\n",
    "    </font>\n",
    "    <font face='XB Zar' size=4>\n",
    "        انواع مختلفی از بازی‌ها وجود دارد که هر یک تعریف مربوط به خود را دارند.\n",
    "        در نتیجه تعریف ارائه شده در اینجا ممکن است با سایر تعاریف اختلاف جزئی داشته باشد.\n",
    "        یک بازی شامل مجموعه‌ای از بازیکنان، مجموعه‌ای از حرکت‌ها یا راهبردها و نتیجهٔ مشخصی برای هر ترکیب از راه بردها می‌باشد. پیروزی در هر بازی تنها تابع شانس نیست بلکه اصول و قوانینِ ویژه‌ی خود را دارد و هر بازیکن در طی بازی سعی می‌کند با بکارگیری آن اصول، خود را به برد نزدیک کند.\n",
    "        <br>\n",
    "        یک بازی از عناصر زیر تشکیل شده است:\n",
    "        <ul>\n",
    "            <li>تعدادی بازیکن </li>\n",
    "            <li> اعمال (action)‌\n",
    "                هایی که هر بازیکن می‌تواند انجام دهد </li>\n",
    "            <li>اولویت‌ها و ترجیحات (preferences)\n",
    "                هر عمل انجام شده </li>\n",
    "            <li>اطلاعاتی که برای هر بازیکن آشکار و در دسترس است.</li>\n",
    "        </ul>\n",
    "          <a href=\"https://eetripp.expressions.syr.edu/wp-content/uploads/2015/08/finalpresentation.pdf\">بازی</a>\n",
    "         را به صورت \n",
    "    <br>\n",
    "    <b>G = (N,A,u)</b>\n",
    "    تعریف می‌کنیم به طوری که \n",
    "    <br>\n",
    "   N = {1,2, .. n}\n",
    "    <br>\n",
    "    مجموعه شرکت کنندگان (players) در بازی است،\n",
    "    <br>\n",
    "    A=$\\prod$i∈NAi\n",
    "    <br>\n",
    "    مجموعه عملیات‌(actions)هاست و \n",
    "    Ai\n",
    "    عملیات های بازیکن i را نشان می‌دهد و\n",
    "    <br>\n",
    "    u=$\\prod$i∈N ui:A→R\n",
    "    <br>\n",
    "    تابع مطلوبیت (utility) است که ترجیحات(preferences) هر عملیات را به ازای هر بازیکن در بر دارد.\n",
    "    این ترجیحات می‌توانند به صورت نفع یا سود حاصل از آن عملیات خاص تفسیر شوند.\n",
    "     هر بازیکن به دنبال بیشینه کردن مقدار تابع مطلوبیت خود است.\n",
    "    <br>\n",
    "    <br>\n",
    "    <b>استراتژی: </b>\n",
    "            استراتژی برای هر بازیکن روش تصمیم‌گیری او را برای انجام عملیات‌ها نشان می‌دهد. استراتژی‌ها به دو نوع تقسیم می‌شوند:\n",
    "        <ul>\n",
    "            <li>استراتژی خالص (pure strategy)\n",
    "            که حرکت یا actionی\n",
    "                را که هر بازیکن در هر موقعیت انجام می‌دهد را نشان می‌دهد.\n",
    "            بازیکنی که تنها از استراتژی خالص استفاده می‌کند، رفتار تصادفی از خود نشان نمی‌دهد.\n",
    "            </li>\n",
    "            <li>استراتژی مختلط (mixed strategy)\n",
    "            که اختصاص یک احتمال به هر یک از استراتژی‌های خالص توسط بازیکن است.\n",
    "            اگر استراتژی مختلط بازیکن i\n",
    "                را si در نظر بگیریم\n",
    "                و هر یک از عملیات‌های این کاربر را یک استراتژی خالص در نظر بگیریم\n",
    "            (ai)\n",
    "                بازیکن با استراتژی مختلط یک توزیع احتمالی روی عملیات‌های آن بازیکن است.\n",
    "            si(ai) را احتمال اجرا شدن استراتژی خالص \n",
    "                ai در استراتژی مختلط si و\n",
    "            ui(ai) را مقدار مطلوبیت استراتژی خالص ai در استراتژی مختلط si تعریف می‌کنیم.\n",
    "            </li>\n",
    "        </ul>\n",
    "    <br>\n",
    "    <b>ماتریس utility:</b>\n",
    "    به ماتریسی گفته می‌شود که مقدار مطلوبیت (utility) هر بازیکن را به ازای عملیات انجام شده نشان می‌دهد.\n",
    " به این ماتریس، ماتریس payoff نیز گفته می‌شود.\n",
    "        </font>\n",
    "</div>"
   ]
  },
  {
   "attachments": {
    "image.png": {
     "image/png": "[encoded data removed]"
    }
   },
   "cell_type": "markdown",
   "metadata": {},
   "source": [
    "![image.png](attachment:image.png)"
   ]
  },
  {
   "cell_type": "markdown",
   "metadata": {},
   "source": [
    "<div style=\"direction:rtl;line-height:200%\">\n",
    "    <font face='XB Zar' size =4>\n",
    "        <font color=\"red\"><b>مثال:</b></font>\n",
    "        <br>\n",
    "        در بازی سنگ کاغذ قیچی دو بازیکن حضور دارند (N = {1,2}).\n",
    "        و هر بازیکن می‌تواند یکی از سه عمل سنگ، کاغذ و یا قیچی را اجرا کند.\n",
    "        <br>\n",
    "        <div style=\"direction:ltr\"> A = {R, P, S} * {R, P, S} = {(RR), (RP), (RS), (PR), .. }.</div>\n",
    "        مقادیر تابع مطلوبیت نیز در ماتریس بالا به ازای هر عملیات نشان داده‌شده است.\n",
    "        <br>\n",
    "        در این بازی می‌توان انجام هر یک از سه عمل را یک استراتژی خالص در نظر گرفت و \n",
    "        برای این دو بازیکن ممکن است استراتژی انجام رندوم هر یک از استراتژی‌های خالص (سه عمل سنگ، کاغذ و قیچی) به احتمال مساوی باشد که در این صورت به ازای هر i و \n",
    "        ai مقدار\n",
    "        si(ai) = 1/3\n",
    "        خواهد شد.\n",
    "        <br><br>\n",
    "        بازی سنگ کاغذ قیچی نمونه‌ای از بازی\n",
    "        <b>مجموع صفر</b> \n",
    "        (zero sum games)\n",
    "        است، به این معنا که در هر بازی تنها یکی از بازیکنان برنده خواهد شد. به معنای دیگر سود یک بازیکن زیان دیگری است و بالعکس.\n",
    "        ماتریس زیر ماتریس utility بازی سنگ کاغذ قیچی با در نظر گرفتن این ویژگی است:\n",
    "    </font>\n",
    "</div>"
   ]
  },
  {
   "attachments": {
    "image.png": {
     "image/png": "[encoded data removed]"
    }
   },
   "cell_type": "markdown",
   "metadata": {},
   "source": [
    "![image.png](attachment:image.png)"
   ]
  },
  {
   "cell_type": "markdown",
   "metadata": {},
   "source": [
    "<div style=\"direction:rtl;line-height:200%\">\n",
    "    <font face='XB Zar' size=5>\n",
    "        <b>تقسیم‌بند‌های بازی‌ها:</b>\n",
    "        <br>\n",
    "    </font>\n",
    "    <font face='XB Zar' size=4>\n",
    "         بازی‌های این حوزه را می‌توان براساس معیار‌های مختلفی تقسیم‌بندی کرد. در اینجا به برخی از این تقسیم‌بندی‌ها اشاره داریم که معیار آن‌ها به ترتیب نحوه‌ی نمایش تابع مطلوبیت بازی، ترتیب اجرای عملیات‌ها توسط بازیکنان و قوانین تقسیم سود حاصل از بازی میان بازیکنان است.\n",
    "        <ul>\n",
    "            <li>\n",
    "               Normal Form Games and Extensive Form Games:\n",
    "                در بازی های فرم نرمال، بازی را می‌توان با یک ماتریس utility نشان داد. مثالی که دیدیم از فرم نرمال است.\n",
    "                در طرفی دیگر فرم پیوسته به بازی هایی اشاره دارد که برای توصیف آن‌ها از درخت توصیف (description tree) استفاده می‌شود. در بازی‌های به فرم نرمال می‌توان از تکنیک‌های یافتن تعادل نش(که کمی بعد با آن آشنا خواهیم شد) استفاده کرد.\n",
    "            </li>\n",
    "            <li>\n",
    "                 Simultaneous Move Games and Sequential Move Games: بازی‌های همزمان( یا one-shot) \n",
    "                بازی‌هایی هستند که دو بازیکن همزمان عمل خود را انجام می‌دهند؛ مانند بازی سنگ کاغذ قیچی. بازی‌های ترتیبی آن دسته از بازی‌ها هستند که بازیکنان به نوبت و پس از مشاهده عمل بازیکن قبلی، عمل خود را انجام می‌دهند؛ مانند بازی شطرنج.\n",
    "            </li>\n",
    "            <li>\n",
    "                Zero Sum Games and Non-zero Sum Games: \n",
    "                در بازی‌های مجموع صفر(همانطور که پیش از این با آن‌ها آشنا شدیم) مجموع سود تمام بازیکن‌ها در بازی ۰ است؛ در حالی که در بازی‌های مجموع ناصفر، این مقدار می‌تواند هر عددی باشد. مانند مثال قبل سنگ کاغذ قیچی را می‌توان بازی مجموع صفر در نظر گرفت.\n",
    "            </li>\n",
    "            <li> ... </li>\n",
    "        </ul>\n",
    "    </font>\n",
    "</div>"
   ]
  },
  {
   "cell_type": "markdown",
   "metadata": {},
   "source": [
    "<div style=\"direction:rtl;line-height:200%\">\n",
    "    <font face='XB Zar' size =4>\n",
    "        <font face='XB Zar' color=\"blue\"><b>تمرین (مسئله دوراهی زندانی‌ها - Prisoner's dilemma):</b></font>\n",
    "        <br>\n",
    "        پلیس شواهد کافی دارد که دو متهم را به جرم کوچکی محکوم کند ولی شواهد کافی برای اثبات جرم سرقت مسلحانه را ندارد.  لذا پلیس نیاز دارد تا هر متهم به همدستش خیانت کند تا اتهام سرقت مسلحان قابل اثبات باشد. از دو زندانی جداگانه بازجویی می‌شود و سناریو به هر دو به صورت جداگانه گفته می‌شود که اگر هر دو ساکت بمانند هر کدام فقط یک سال در زندان می‌مانند. اگر یکی از آنها دیگری را لو دهد، آزاد می‌شود و همدستش را به پنج سال زندان محکوم می‌کنند. اگر هر دو همدیگر را لو دهند، هر کدام به سه سال زندان محکوم می‌شوند (دو سال کاهش به خاطر همکاری با پلیس).\n",
    "        <br>\n",
    "        <ul>\n",
    "            <li>این مسئله را در قالب یک مسئله نظریه بازی‌ها مدل کنید.</li>\n",
    "            <li>ماتریس  utility آن را رسم کنید.</li>\n",
    "            <li>بدون در نظر گرفتن انتخاب زندانی دیگر، برای هر زندانی بهترین انتخاب کدام است؟</li>\n",
    "            <li>اگر هر زندانی انتخاب زندانی دیگر را بداند، بهترین انتخاب او کدام است؟</li>\n",
    "        </ul>\n",
    "    </font>\n",
    "</div>"
   ]
  },
  {
   "cell_type": "markdown",
   "metadata": {
    "pycharm": {
     "name": "#%% md\n"
    }
   },
   "source": [
    "<font color=\"light-blue\">Your answers Here</font>"
   ]
  },
  {
   "cell_type": "markdown",
   "metadata": {},
   "source": [
    "<div style=\"direction:rtl;line-height:200%\">\n",
    "    <font face='XB Zar' size=4>\n",
    "        یک آزمایش جالب مربوط به گیم تئوری:\n",
    "        <br>\n",
    "        <a>https://ncase.me/trust/</a>\n",
    "    </font>\n",
    "</div>"
   ]
  }
 ],
 "metadata": {
  "kernelspec": {
   "display_name": "Python 3",
   "language": "python",
   "name": "python3"
  },
  "language_info": {
   "codemirror_mode": {
    "name": "ipython",
    "version": 3
   },
   "file_extension": ".py",
   "mimetype": "text/x-python",
   "name": "python",
   "nbconvert_exporter": "python",
   "pygments_lexer": "ipython3",
   "version": "3.8.5"
  }
 },
 "nbformat": 4,
 "nbformat_minor": 4
}
