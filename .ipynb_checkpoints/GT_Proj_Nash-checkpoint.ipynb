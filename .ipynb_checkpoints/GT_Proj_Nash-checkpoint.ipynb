{
 "cells": [
  {
   "cell_type": "markdown",
   "metadata": {
    "pycharm": {
     "name": "#%% md\n"
    }
   },
   "source": [
    "<div style=\"direction:rtl;text-align:justify\">\n",
    "    <font face='XB Zar' size='7'>\n",
    "        استراتژی‌های غالب\n",
    "        <br>\n",
    "        <font size='5'>\n",
    "            <p align='justify'></p>\n",
    "                مثال زندانیان قسمت قبل را در نظر بگیرید. با فرض اینکه زندانیان عاقل هستند، طبق ماتریس منفعت درمی‌یابیم که گزینهٔ خیانت را انتخاب می‌کنند. بنابراین زندانی دوم باید روشی پیش بگیرد مستقل از اینکه زندانی اول کدام روش را پیش گرفته تا بیشترین منفعت برایش باشد.\n",
    "            <p align='justify'></p>\n",
    "                پس دو زندانی استراتژی (خیانت،خیانت) را انتخاب می‌کنند. طبق این مثال، می‌توانیم تعریف کنیم در هر بازی دو نفره به فرم استاندارد، استراتژی ${s_1}^\\prime$ بازیکن اول <b> مغلوب </b> استراتژی $s_1$ بازیکن اول است در صورتی که به ازای هر استراتژی $s_2$ که بازیکن دوم پیش گیرد، منفعت $s_1$ از ${s_1}^\\prime$ بیشتر باشد.\n",
    "            <p></p>\n",
    "                اکنون اگر بخواهیم با نماد گذاری پیش رویم خواهیم داشت:\n",
    "                $$ S=(s_1,...,s_{i-1},s_i,s_{i+1},...,s_n) $$\n",
    "                اگر فرض کنیم بازیکن iام استراتژی $s_i$ را انتخاب کرده استراتژی‌های دیگر بازیکنان را تعریف می‌کنیم\n",
    "                $$S_{-i}=(s_1,...,s_{i-1},s_{i+1},...,s_n)$$\n",
    "                طبق این نمادگذاری اکنون تعریف استراتژی غالب (و ضعیف غالب در حالت تساوی) $s_i$ بر ${s_i}^\\prime$ می‌شود:\n",
    "                $$ U_i(s_i,s_{-i}) \\ge U_i({s_i}^\\prime,s_{-i}) $$\n",
    "        </font>\n",
    "        <font size='6'>حذف استراتژی مغلوب</font>\n",
    "        <font size='5'>\n",
    "            <div style=\"direction:ltr;border:1px solid;border-collapse:collapse;\">\n",
    "                <table style=\"width:100%;align:center;\">\n",
    "                    <caption>ماتریس منفعت</caption>\n",
    "                    <tr>\n",
    "                        <th>1|2</th>\n",
    "                        <th>L</th>\n",
    "                        <th>C</th>\n",
    "                        <th>R</th>\n",
    "                    </tr>\n",
    "                    <tr>\n",
    "                        <th>U</th>\n",
    "                        <td>(3,1)</td>\n",
    "                        <td>(0,1)</td>\n",
    "                        <td>(0,0)</td>\n",
    "                    </tr>\n",
    "                    <tr>\n",
    "                        <th>M</th>\n",
    "                        <td>(1,1)</td>\n",
    "                        <td>(1,1)</td>\n",
    "                        <td>(5,0)</td>\n",
    "                    </tr>\n",
    "                    <tr>\n",
    "                        <th>D</th>\n",
    "                        <td>(0,1)</td>\n",
    "                        <td>(4,1)</td>\n",
    "                        <td>(0,0)</td>\n",
    "                    </tr>\n",
    "                </table>\n",
    "            </div>\n",
    "            در مثال بالا، استراتژی C بر R غالب بازیکن دوم است چون\n",
    "            $$ \\forall s_1 \\in \\{U,M,D\\} : U_2(s_1, C) > U_2(s_1,R)$$\n",
    "            پس با فرض اینکه بازیکن اول نیز عاقل باشد ستون R را می‌توان از استراتژی‌ها حذف کرد. اگر توجه کنید درخواهید یافت که با این توصیفات، از نظر منفعت، انتخاب استراتژی L یا C برای بازیکن دوم تفاوتی ندارد. اما ممکن است بازیکن اول یک استراتژی ترکیبی استفاده کند. برای مثال فرض کنید که یک استراتژی ترکیبی از U و D، روش اتخاذ شده توسط بازیکن اول باشد.\n",
    "            <div style=\"direction:ltr;border:1px solid;border-collapse:collapse;\">\n",
    "                <table style=\"width:100%;align:center;\">\n",
    "                    <tr>\n",
    "                        <th>1|2</th>\n",
    "                        <th>L</th>\n",
    "                        <th>C</th>\n",
    "                    </tr>\n",
    "                    <tr>\n",
    "                        <th>1/2U+1/2D</th>\n",
    "                        <td>(1.5,1)</td>\n",
    "                        <td>(2,1)</td>\n",
    "                    </tr>\n",
    "                    <tr>\n",
    "                        <th>U</th>\n",
    "                        <td>(3,1)</td>\n",
    "                        <td>(0,1)</td>\n",
    "                    </tr>\n",
    "                    <tr>\n",
    "                        <th>M</th>\n",
    "                        <td>(1,1)</td>\n",
    "                        <td>(1,1)</td>\n",
    "                    </tr>\n",
    "                    <tr>\n",
    "                        <th>D</th>\n",
    "                        <td>(0,1)</td>\n",
    "                        <td>(4,1)</td>\n",
    "                    </tr>\n",
    "                </table>\n",
    "            </div>\n",
    "            اکنون چون یک استراتژی ترکیبی وجود دارد از U و D که بر استراتژی محض M غلبه کند پس می‌توان جدول منفعت را به صورت زیر خلاصه کرد\n",
    "            <div style=\"direction:ltr;border:1px solid;border-collapse:collapse;\">\n",
    "                <table style=\"width:100%;\">\n",
    "                    <tr>\n",
    "                        <th sytle=\"text-align:center;\">1|2</th>\n",
    "                        <th sytle=\"text-align:center;\">L</th>\n",
    "                        <th sytle=\"text-align:center;\">C</th>\n",
    "                    </tr>\n",
    "                    <tr>\n",
    "                        <th>U</th>\n",
    "                        <td>(3,1)</td>\n",
    "                        <td>(0,1)</td>\n",
    "                    </tr>\n",
    "                    <tr>\n",
    "                        <th>D</th>\n",
    "                        <td>(0,1)</td>\n",
    "                        <td>(4,1)</td>\n",
    "                    </tr>\n",
    "                </table>\n",
    "            </div>            \n",
    "        </font>        \n",
    "     </font>\n",
    "</div>"
   ]
  },
  {
   "cell_type": "markdown",
   "metadata": {
    "pycharm": {
     "name": "#%% md\n"
    }
   },
   "source": [
    "<div style=\"direction:rtl;text-align:justify\">\n",
    "    <font face='XB Zar' size='7'>\n",
    "        تعادل نش\n",
    "        <br>\n",
    "        <font size='5'>\n",
    "            <p align='justify'></p>\n",
    "        همانطور که در قسمت قبل صحبت کردیم، استراتژی غالب هر بازیکن وابسته به استراتژی بازیکنان دیگر است. به عبارتی تعادل در نقطه‌ای رخ می‌دهد که هیچ‌یک از بازیکنان تمایلی به تغییر استراتژی خود نداشته باشند. اگر بازیکنی عاقل باشد، استراتژی خود را به گونه‌ای می‌چیند که پس از مشاهده‌ی شیوه‌ی عملکرد دیگران در انتهای بازی، پشیمان نشود.\n",
    "        </font>\n",
    "        <br>\n",
    "        <font size='6'>بهترین پاسخ</font>\n",
    "        <br>\n",
    "        <font size='5'>\n",
    "            <p align='justify'></p>\n",
    "            فرض کنید G یک بازی نرمال باشد و بازیکنان مجموعهٔ $ I=\\{1,...,n\\} $ باشند. می‌خواهیم مفهومی به نام  <b>بهترین پاسخ</b> تعریف کنیم که آن را به صورت زیر نشان می‌دهیم\n",
    "            $$ B_i(s_{-i}) $$\n",
    "            مفهوم بهترین پاسخ یعنی اگر حریفان عاقل استراتژی $ s_{-i} $ را انتخاب کنند بهترین روش بازی بازیکن iام چیست؟\n",
    "            <br>\n",
    "            به مثال زیر توجه کنید\n",
    "            <div style=\"direction:ltr;border:1px solid;border-collapse:collapse;\">\n",
    "                <table style=\"width:100%;align:center;\">\n",
    "                    <caption>ماتریس منفعت</caption>\n",
    "                    <tr>\n",
    "                        <th>1|2</th>\n",
    "                        <th>L</th>\n",
    "                        <th>C</th>\n",
    "                        <th>R</th>\n",
    "                    </tr>\n",
    "                    <tr>\n",
    "                        <th>U</th>\n",
    "                        <td>(1,0)</td>\n",
    "                        <td>(1,2)</td>\n",
    "                        <td>(0,2)</td>\n",
    "                    </tr>\n",
    "                    <tr>\n",
    "                        <th>D</th>\n",
    "                        <td>(0,3)</td>\n",
    "                        <td>(0,1)</td>\n",
    "                        <td>(2,0)</td>\n",
    "                    </tr>\n",
    "                </table>\n",
    "            </div>          \n",
    "            می‌توانیم بهترین پاسخ‌ها را از آن استخراج کنیم:\n",
    "            <br>\n",
    "            $ B_1(L)=U $ &nbsp;&nbsp; $ B_1(C)=U $ &nbsp;&nbsp; $ B_1(R)=D $\n",
    "            <br>\n",
    "            $ B_2(U)=\\{C,R\\} $ &nbsp;&nbsp; $ B_2(D)=L $\n",
    "            <br>\n",
    "            اگر نیک بنگرید متوجه خواهید شد که پروفایل بازی (U,C) نقطهٔ تعادل بازی است. چون در این حالت هیچ کدام پشیمان نخواهند شد.\n",
    "            <br>\n",
    "        </font>\n",
    "    </font>\n",
    "</div>\n"
   ]
  },
  {
   "cell_type": "markdown",
   "metadata": {},
   "source": [
    "<div style=\"direction:rtl;text-align:justify\">\n",
    "    <font size='6' face='XB Zar'>\n",
    "        <p></p>\n",
    "        تعریف.\n",
    "    </font>\n",
    "    <br>\n",
    "    <font size='5' face='XB Zar'>\n",
    "        <p></p>\n",
    "        پروفایل استراتژی $(s_1, s_2, ..., s_n) $ یک تعادل نش است اگر و تنها اگر $ s_i \\in B_i(s_{-i}) $ \n",
    "   </font>\n",
    "</div>"
   ]
  },
  {
   "cell_type": "markdown",
   "metadata": {},
   "source": [
    "<div style=\"direction:rtl;text-align:justify\">\n",
    "    <font size='5' face='XB Zar'>\n",
    "        <p></p>\n",
    "            اکنون جدول منفعت زیر را درنظر گرفته و به سوالات پاسخ دهید.\n",
    "        <br>\n",
    "        <div style=\"direction:ltr;border:1px solid;border-collapse:collapse;\">\n",
    "                <table style=\"width:100%;align:center;\">\n",
    "                    <tr>\n",
    "                        <th>1|2</th>\n",
    "                        <th>L</th>\n",
    "                        <th>C</th>\n",
    "                        <th>R</th>\n",
    "                    </tr>\n",
    "                    <tr>\n",
    "                        <th>T</th>\n",
    "                        <td>(3,6)</td>\n",
    "                        <td>(3,5)</td>\n",
    "                        <td>(12,1)</td>\n",
    "                    </tr>\n",
    "                    <tr>\n",
    "                        <th>U</th>\n",
    "                        <td>(2,7)</td>\n",
    "                        <td>(2,6)</td>\n",
    "                        <td>(10,4)</td>\n",
    "                    </tr>\n",
    "                    <tr>\n",
    "                        <th>M</th>\n",
    "                        <td>(0,3)</td>\n",
    "                        <td>(5,4)</td>\n",
    "                        <td>(6,2)</td>\n",
    "                    </tr>\n",
    "                    <tr>\n",
    "                        <th>D</th>\n",
    "                        <td>(6,1)</td>\n",
    "                        <td>(4,3)</td>\n",
    "                        <td>(9,10)</td>\n",
    "                    </tr>\n",
    "                </table>\n",
    "        </div>  \n",
    "    </font>\n",
    "</div>"
   ]
  },
  {
   "cell_type": "markdown",
   "metadata": {},
   "source": [
    "<div style=\"direction:rtl;text-align:justify\">\n",
    "    <font size='5' face='XB Zar'>\n",
    "        <p></p>\n",
    "                آیا پروفایل (D,L) یک تعادل نش است؟ چرا؟\n",
    "    </font>\n",
    "</div>"
   ]
  },
  {
   "cell_type": "markdown",
   "metadata": {},
   "source": []
  },
  {
   "cell_type": "markdown",
   "metadata": {},
   "source": [
    "<div style=\"direction:rtl;text-align:justify\">\n",
    "    <font size='5' face='XB Zar'>\n",
    "        <p></p>\n",
    "                آیا پروفایل (M,C) یک تعادل نش است؟ چرا؟\n",
    "    </font>\n",
    "</div>"
   ]
  },
  {
   "cell_type": "markdown",
   "metadata": {},
   "source": []
  },
  {
   "cell_type": "markdown",
   "metadata": {},
   "source": [
    "<div style=\"direction:rtl;\">\n",
    "    <font face='XB Zar' size='7'>\n",
    "        قضیه‌ی کمینه و بیشینه\n",
    "        <br>\n",
    "        <font size='6'>تعریف</font>\n",
    "        <br>\n",
    "        <font size='5'>\n",
    "            <p align='justify'></p>\n",
    "            ماتریس منفعت زیر را در نظر بگیرید. اکنون فرض کنید هر بازیکن دنبال ترکیبی از استراتژی‌هاست تا به تعادل نش برسد. درحقیقت شما باید یک ترکیب خطی بهینه (با مجموع ضرایب ۱) از استراتژی‌ها بیابید. در این بخش شما می‌بایست با استفاده از کتاب‌خانه‌ی `numpy` نقطه‌ی تعادل را پیدا کنید. به عبارتی در کجا نه بازیکن اول و نه بازیکن دوم تمایلی به تغییر استراتژی خود ندارند. فرض کنید مقادیر داده شده سود بازیکن دوم است. \n",
    "        </font>\n",
    "        <br>\n",
    "        <font size='5'>\n",
    "            <div style=\"direction:ltr;border:1px solid;border-collapse:collapse;\">\n",
    "                <table style=\"width:100%;align:center;\">\n",
    "                    <caption>ماتریس منفعت</caption>\n",
    "                    <tr>\n",
    "                        <th>1|2</th>\n",
    "                        <th>L</th>\n",
    "                        <th>R</th>\n",
    "                    </tr>\n",
    "                    <tr>\n",
    "                        <th>U</th>\n",
    "                        <td>-10</td>\n",
    "                        <td>20</td>\n",
    "                    </tr>\n",
    "                    <tr>\n",
    "                        <th>D</th>\n",
    "                        <td>10</td>\n",
    "                        <td>-10</td>\n",
    "                    </tr>\n",
    "                </table>\n",
    "            </div>          \n",
    "        </font>\n",
    "    </font>\n",
    "</div>\n"
   ]
  },
  {
   "cell_type": "code",
   "execution_count": null,
   "metadata": {
    "collapsed": false,
    "jupyter": {
     "outputs_hidden": false
    },
    "pycharm": {
     "name": "#%%\n"
    }
   },
   "outputs": [],
   "source": [
    "import numpy as np\n",
    "#Your code goes here\n",
    "#You should find the optimum strategy and the optimum gain"
   ]
  },
  {
   "cell_type": "markdown",
   "metadata": {},
   "source": [
    "<div style=\"direction:rtl;\">\n",
    "        <font size='5' face='XB Zar'>\n",
    "            <p align='justify'></p>\n",
    "            همانطور که گفته شد ماتریس منفعت از دید بازیکن ۲ نوشته شده است. فرض کنید این اعداد معادل پرداختی بازیکن ۱ به بازیکن ۲ باشد. اکنون به سوالات زیر جواب دهید \n",
    "        </font>\n",
    "        <br>\n",
    "</div>\n"
   ]
  },
  {
   "cell_type": "markdown",
   "metadata": {},
   "source": [
    "<div style=\"direction:rtl;\">\n",
    "        <font size='5' face='XB Zar'>\n",
    "            <p align='justify'></p>\n",
    "            امید ریاضی پرداختی کل بازیکنان چقدر خواهد بود؟\n",
    "        </font>\n",
    "        <br>\n",
    "</div>"
   ]
  },
  {
   "cell_type": "markdown",
   "metadata": {},
   "source": []
  },
  {
   "cell_type": "markdown",
   "metadata": {},
   "source": [
    "<div style=\"direction:rtl;\">\n",
    "        <font size='5' face='XB Zar'>\n",
    "            <p align='justify'></p>\n",
    "             اگر ماتریس منفعت I بود آنگاه بهترین رفتار بازیکن ۱ در برابر بازیکن ۲ چه می‌توانست باشد؟ (ضرایب ترکیب خطی را بیان کنید)\n",
    "        </font>\n",
    "        <br>\n",
    "</div>"
   ]
  },
  {
   "cell_type": "markdown",
   "metadata": {},
   "source": []
  },
  {
   "cell_type": "markdown",
   "metadata": {},
   "source": [
    "<div style=\"direction:rtl;\">\n",
    "        <font size='5' face='XB Zar'>\n",
    "            <p align='justify'></p>\n",
    "            با سوالات و توضیحات بالا احتمالا متوجه شده‌اید که بازیکن یک به دنبال بیشینه کردن کمینه دریافتی خود و بازیکن دو به دنبال کمینه کردن بیشینه پرداختی خود است. به عبارتی اگر فرض کنیم\n",
    "            $$ x^{*} = (x_1, x_2,.., x_n) $$ $$ y^{*} = (y_1, y_2,.., y_n) $$\n",
    "            بهترین ترکیب‌های استراتژیک بازیکن ۱ و ۲ باشند آنگاه بازیکن ۱ به دنبال برقراری تساوی زیر است\n",
    "            $$ min(yAx^{*}) = max(min(yAx)) $$\n",
    "            و بازیکن ۲ به دنبال \n",
    "            $$ max(y^{*}Ax) = min(max(yAx)) $$\n",
    "        </font>\n",
    "        <br>\n",
    "</div>"
   ]
  },
  {
   "cell_type": "markdown",
   "metadata": {},
   "source": [
    "<div style=\"direction:rtl;\">\n",
    "        <font size='5' face='XB Zar'>\n",
    "            <p align='justify'></p>\n",
    "             فون‌نویمن ثابت کرده است که کمینه‌ی بیشینه‌ها به هر شیوه با بیشینه‌ی کمینه‌ها به هر شیوه برابر است. به عبارتی \n",
    "            $$ max(min(yAx)) = min(max(yAx)) $$\n",
    "            این قضیه به قضیه <b> بیشینه کمینه </b> معروف است\n",
    "        </font>\n",
    "        <br>\n",
    "</div>"
   ]
  },
  {
   "cell_type": "markdown",
   "metadata": {},
   "source": [
    "<div style=\"direction:rtl;\">\n",
    "        <font size='7' face='XB Zar'>\n",
    "            <p align='justify'></p>\n",
    "            کارت‌های حیثیتی!\n",
    "        </font>\n",
    "        <br>\n",
    "</div>\n"
   ]
  },
  {
   "cell_type": "markdown",
   "metadata": {},
   "source": [
    "<div style=\"direction:rtl; text-align:justify;\">\n",
    "        <font size='5' face='XB Zar'>\n",
    "            <p align='justify'></p>\n",
    "            رابرت پس از اینکه پرستیژش! در مقابل آلفرد به خطر میفتد تصمیم می‌گیرد که دست از این کارهایش بردارد و کمی با همکار قدیمی‌اش خوش بگذارند! به همین منظور سراغ نیکلا تسلا می‌رود و از او می‌خواهد که یک بازی ابداع کند تا بتواند با آلفرد سرگرم شود. آقای تسلا هم که رابرت را از پیش می‌شناخته قبول می‌کند و یک بازی با تاس و کارت طراحی می‌کند (لابد برای تلطیف با کمی تم شعبده!). متاسفانه رابرت معتاد به عمل زشت و ناپسند شرط‌بندی است و پس از اینکه مقدار زیادی از ثروت خود را در این گونه سایت‌ها از دست داد و پورتفویش هم به سرخی گوجه شد! تصمیم گرفت که وارد حوزه‌ی رمزارزها شود! بنابراین از تسلا خواست که برنده‌شدن را معادل پرداخت رمزارز تعریف کند و البته از آنجایی که از طرفداران memeهای doge بوده تصمیم می‌گیرد از دوج‌کوین جهت پرداخت حین بازی استفاده کند. با این توصیفات، تسلا توضیحات زیر را به رابرت داد: \n",
    "            <ul>\n",
    "                <li> بازی به صورت تکرار یک دست مشابه بین دو بازیکن است که هرکدام یک تاس جادویی! با وجوه ۱ تا ۶ دارند. جهت هیجان بیشتر ۶ کارت نیز به ترتیبی چیده می‌شوند.\n",
    "                <li> در هر دست دو بازیکن تاس می‌ریزند و کارت iام از سمت چپ را در آن دست بازی می‌کنند. i همان عدد روی تاس در دست موردنظر است.\n",
    "                <li>  کارت‌ها (از سمت رابرت) به صورت زیر هستند:\n",
    "                    <br>\n",
    "                    <ol>\n",
    "                        <li> ۱۰۰ دوج‌کوین از حریفت بگیر!\n",
    "                        <li> ۸۰ دوج‌کوین به حریفت بده!\n",
    "                        <li> ۲۰٪ بیشتر از آنچه که حریفت پرداخت/دریافت کرده به تو تعلق می گیرد. یعنی اگر ۱۰۰تا برنده شده تو ۱۲۰تا  بردی و اگر ۸۰ تا باخته تو ۹۶تا باختی!\n",
    "                        <li> ۳۰٪ کمتر از آنچه حریفت پرداخت/دریافت کرده به حریفت تعلق می‌گیرد. یعنی اگر ۱۰۰تا برنده شده تو ۷۰تا بهش می‌پردازی و اگر ۸۰تا باخته تو ۵۶تا دریافت می‌کنی!\n",
    "                        <li> کارت بی‌خاصیت!\n",
    "                        <li> یک نوبت دیگر تاس بریز!\n",
    "                    </ol>\n",
    "                <li> تاس‌ها جادویی هستند! یعنی می‌توان آن‌ها را به طور دلخواه برنامه‌ریزی کرد.\n",
    "            </ul>\n",
    "            رابرت از تسلا خواست که الگوریتم این بازی را به وی آموزش دهد ولی چون ساخت دستگاه تله‌پورت شدیدا ذهنش را مشغول کرده بود از این امتناع کرد. رابرت هم چون می‌داند آلفرد فرد بسیار باهوشی‌است تصمیم گرفت که بهترین استراتژی خود را با کمک قضیه کمینه‌بیشینه پیدا کند؛ اما چون بیشتر عمر خود را به شعبده گذرانده، چندان دستی در این حوزه ندارد و برای همین از شما می‌خواهد که در برنامه‌ریزی تاسش به وی کمک کنید!\n",
    "        </font>\n",
    "        <br>\n",
    "</div>"
   ]
  },
  {
   "cell_type": "code",
   "execution_count": null,
   "metadata": {},
   "outputs": [],
   "source": [
    "import numpy as np\n",
    "#Your code goes here\n",
    "#You should find the payoff matrix, optimum strategy and the optimum gain"
   ]
  }
 ],
 "metadata": {
  "kernelspec": {
   "display_name": "Python 3",
   "language": "python",
   "name": "python3"
  },
  "language_info": {
   "codemirror_mode": {
    "name": "ipython",
    "version": 3
   },
   "file_extension": ".py",
   "mimetype": "text/x-python",
   "name": "python",
   "nbconvert_exporter": "python",
   "pygments_lexer": "ipython3",
   "version": "3.8.6"
  }
 },
 "nbformat": 4,
 "nbformat_minor": 4
}
